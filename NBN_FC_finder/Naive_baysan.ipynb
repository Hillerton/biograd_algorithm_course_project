{
 "cells": [
  {
   "cell_type": "code",
   "execution_count": 38,
   "metadata": {},
   "outputs": [],
   "source": [
    "# import all needed libraries \n",
    "import numpy as np\n",
    "import pandas as pd\n",
    "from sklearn.naive_bayes import GaussianNB\n",
    "from sklearn.preprocessing import KBinsDiscretizer\n",
    "from glob import glob\n",
    "import networkx as nx\n",
    "import os \n",
    "import seaborn as sns\n",
    "import matplotlib.pyplot as plt"
   ]
  },
  {
   "cell_type": "code",
   "execution_count": 13,
   "metadata": {},
   "outputs": [],
   "source": [
    "# load and preprocess the data\n",
    "\n",
    "indir = \"/home/hillerton/projects/algorithm_course/NBN_FC_finder/data/1490010574990_17\"\n",
    "pattern = \"GSM\"\n",
    "\n",
    "# check to make sure that the given directory exists \n",
    "if not os.path.isdir(indir):\n",
    "    raise ValueError(indir,\"does not apear to be a direcotry\")\n",
    "\n",
    "find = \"*\"+pattern+\"*.txt\"\n",
    "    \n",
    "# initialize a value that tracks what column the data should be added to     \n",
    "col = 2\n",
    "    \n",
    "# if the directory exists find and merge all files contaning a wanted patern \n",
    "for i in glob(indir+\"/\"+find):\n",
    "    fil = pd.read_csv(i,sep=\"\\t\",header=None)\n",
    "    if not 'data' in locals():\n",
    "        data = pd.DataFrame(fil.iloc[:,1]) \n",
    "    else:\n",
    "        data[col] = fil.iloc[:,1]\n",
    "        col+=1  \n",
    "      "
   ]
  },
  {
   "cell_type": "code",
   "execution_count": 14,
   "metadata": {},
   "outputs": [
    {
     "name": "stdout",
     "output_type": "stream",
     "text": [
      "(15744, 14)\n",
      "b0003 ['8277', '9779', '12238']\n",
      "b0004 ['571', '6181', '12524']\n",
      "b0005 ['5736', '7989', '9335']\n",
      "b0006 ['4326', '10892', '12527']\n",
      "b0007 ['1374', '7340', '9977']\n",
      "b0008 ['2645', '10169', '11612']\n",
      "b0009 ['1973', '10632', '11101']\n",
      "b0010 ['1303', '4692', '8017']\n",
      "b0011 ['4942', '12724', '14059']\n"
     ]
    }
   ],
   "source": [
    "# as the micro array data is fairy raw it is here\n",
    "# assigned to a gene locus ID (used by the true network)\n",
    "# and then all spots for the same locus is merged down through mean\n",
    "\n",
    "annotation_file = \"GPL16048-tbl-1.txt\"\n",
    "\n",
    "# first step is to load the file contaning this infomration \n",
    "gene_annotation = pd.read_csv(indir+\"/\"+annotation_file,sep=\"\\t\" ,header=None)\n",
    "print(gene_annotation.shape)\n",
    "# start by removing rows that are simply posetive and negative controls \n",
    "genes = gene_annotation[~gene_annotation.iloc[:,5].str.contains(\"pos\")]\n",
    "genes = genes[~genes.iloc[:,5].str.contains(\"neg\")]\n",
    "\n",
    "# then to get the names used in the gold standard turn col 9 to str \n",
    "genes.iloc[:,9] = genes.iloc[:,9].apply(str)\n",
    "# then use regular expression to find the local name using the pattern of these names \n",
    "# OBS due to the nature of these patterns being very different this will most likey need to \n",
    "# be changed for other species and is thus sub optimal here. \n",
    "\n",
    "genes[[9]] = genes.iloc[:,9].str.extract(r'(b.*?(?=\\|))')\n",
    "\n",
    "\n",
    "# then get a list only with the row id (used in the raw data) and the spot ID to merge on\n",
    "# make sure to use copy so that the original dataframe is not affected with changes made after this\n",
    "gene_IDs = genes[[0,9]].copy()\n",
    "\n",
    "# once we have this capture each row ID (col 0) that corresponds to the same spot ID (col 1)\n",
    "gene_IDs.iloc[:,0] = gene_IDs.iloc[:,0].apply(str)\n",
    "gene_IDs = gene_IDs.rename(columns={0:\"val\", 9:\"ID\"})\n",
    "\n",
    "# finally make a 2 columns dataframe with a ID and the columns in the data that corresponds to this ID \n",
    "IDs = gene_IDs.groupby(\"ID\")[\"val\"].apply(\",\".join).reset_index()\n",
    "\n",
    "# print first 10 rows out to verify that it have worked\n",
    "for i in range(1,10):\n",
    "    print(IDs.iloc[i,0], IDs.iloc[i,1].split(\",\"))\n",
    "\n",
    "\n",
    "merge_data = pd.DataFrame(columns=data.columns)    \n",
    "\n",
    "# finally merge the rows in data to get the mean of all replicates for prediction \n",
    "for i in range(len(IDs)):\n",
    "    \n",
    "    rows = IDs.iloc[i,1].split(\",\")\n",
    "    rows = [int(val) for val in rows]\n",
    "    row_vals = data.iloc[rows,:].mean(axis=0)\n",
    "    merge_data = merge_data.append(row_vals, ignore_index=True)\n",
    "\n",
    "merge_data.insert(0, \"name\", IDs.iloc[:,0])\n",
    "   "
   ]
  },
  {
   "cell_type": "code",
   "execution_count": 15,
   "metadata": {},
   "outputs": [
    {
     "name": "stdout",
     "output_type": "stream",
     "text": [
      "(15744, 14)\n",
      "b0003 ['8277', '9779', '12238']\n",
      "b0004 ['571', '6181', '12524']\n",
      "b0005 ['5736', '7989', '9335']\n",
      "b0006 ['4326', '10892', '12527']\n",
      "b0007 ['1374', '7340', '9977']\n",
      "b0008 ['2645', '10169', '11612']\n",
      "b0009 ['1973', '10632', '11101']\n",
      "b0010 ['1303', '4692', '8017']\n",
      "b0011 ['4942', '12724', '14059']\n",
      "<class 'pandas.core.indexes.numeric.Int64Index'>\n"
     ]
    }
   ],
   "source": [
    "# as the micro array data is fairy raw it is here\n",
    "# assigned to a gene locus ID (used by the true network)\n",
    "# and then all spots for the same locus is merged down through mean\n",
    "\n",
    "annotation_file = \"GPL16048-tbl-1.txt\"\n",
    "\n",
    "# first step is to load the file contaning this infomration \n",
    "gene_annotation = pd.read_csv(indir+\"/\"+annotation_file,sep=\"\\t\" ,header=None)\n",
    "print(gene_annotation.shape)\n",
    "# start by removing rows that are simply posetive and negative controls \n",
    "genes = gene_annotation[~gene_annotation.iloc[:,5].str.contains(\"pos\")]\n",
    "genes = genes[~genes.iloc[:,5].str.contains(\"neg\")]\n",
    "\n",
    "# then to get the names used in the gold standard turn col 9 to str \n",
    "genes.iloc[:,9] = genes.iloc[:,9].apply(str)\n",
    "# then use regular expression to find the local name using the pattern of these names \n",
    "# OBS due to the nature of these patterns being very different this will most likey need to \n",
    "# be changed for other species and is thus sub optimal here. \n",
    "\n",
    "genes[[9]] = genes.iloc[:,9].str.extract(r'(b.*?(?=\\|))')\n",
    "\n",
    "\n",
    "# then get a list only with the row id (used in the raw data) and the spot ID to merge on\n",
    "# make sure to use copy so that the original dataframe is not affected with changes made after this\n",
    "gene_IDs = genes[[0,9]].copy()\n",
    "\n",
    "# once we have this capture each row ID (col 0) that corresponds to the same spot ID (col 1)\n",
    "gene_IDs.iloc[:,0] = gene_IDs.iloc[:,0].apply(str)\n",
    "gene_IDs = gene_IDs.rename(columns={0:\"val\", 9:\"ID\"})\n",
    "\n",
    "# finally make a 2 columns dataframe with a ID and the columns in the data that corresponds to this ID \n",
    "IDs = gene_IDs.groupby(\"ID\")[\"val\"].apply(\",\".join).reset_index()\n",
    "\n",
    "# print first 10 rows out to verify that it have worked\n",
    "for i in range(1,10):\n",
    "    print(IDs.iloc[i,0], IDs.iloc[i,1].split(\",\"))\n",
    "\n",
    "print(type(data.columns))    \n",
    "#merge_data = pd.DataFrame(columns=[\"name\"+data.columns])    \n",
    "\n",
    "col_names = [str(ind) for ind in data.columns]\n",
    "col_names = [\"name\"] + col_names"
   ]
  },
  {
   "cell_type": "code",
   "execution_count": 16,
   "metadata": {
    "scrolled": true
   },
   "outputs": [],
   "source": [
    "# load the gold standard and prep this for use \n",
    "\n",
    "gold_dir = \"/home/hillerton/projects/algorithm_course/NBN_FC_finder/data/\"\n",
    "gold_data = \"FC4.0_E.coli_full\"\n",
    "\n",
    "gold_st = pd.read_csv(gold_dir+\"/\"+gold_data,sep=\"\\t\")\n",
    "\n",
    "# get only the colums needed for a gold standard \n",
    "\n",
    "gold_st = [gold_st[\"#0:PFC\"], gold_st[\"2:Gene1\"],gold_st[\"3:Gene2\"]]\n",
    "\n",
    "gold_st = pd.concat(gold_st,axis=1)\n",
    "\n",
    "# move the data in to a matrix based on the loaded data annotaion \n",
    "gold_adjscen = pd.crosstab(gold_st[\"2:Gene1\"],gold_st[\"3:Gene2\"])\n"
   ]
  },
  {
   "cell_type": "code",
   "execution_count": 55,
   "metadata": {},
   "outputs": [
    {
     "name": "stdout",
     "output_type": "stream",
     "text": [
      "[0 0 0 0 0 0 0 0 0 0 0 0 0 0 0 0 0 0 0 0 0 0 0 0 0 0 0 0 0 0 0 0 0 0 0 0 0\n",
      " 0 0 0 0 0 0 0 0 0 0 0 0 0 1 1 1 1 1 1 1 1 1 1 1 1 1 1 1 1 1 1 1 1 1 1 1 1\n",
      " 1 1 1 1 1 1 1 1 1 1 1 1 1 1 1 1 1 1 1 1 1 1 1 1 1 1 2 2 2 2 2 2 2 2 2 2 2\n",
      " 2 2 2 2 2 2 2 2 2 2 2 2 2 2 2 2 2 2 2 2 2 2 2 2 2 2 2 2 2 2 2 2 2 2 2 2 2\n",
      " 2 2]\n",
      "[[5.1 3.5 1.4 0.2]\n",
      " [4.9 3.  1.4 0.2]\n",
      " [4.7 3.2 1.3 0.2]\n",
      " [4.6 3.1 1.5 0.2]\n",
      " [5.  3.6 1.4 0.2]\n",
      " [5.4 3.9 1.7 0.4]\n",
      " [4.6 3.4 1.4 0.3]\n",
      " [5.  3.4 1.5 0.2]\n",
      " [4.4 2.9 1.4 0.2]\n",
      " [4.9 3.1 1.5 0.1]\n",
      " [5.4 3.7 1.5 0.2]\n",
      " [4.8 3.4 1.6 0.2]\n",
      " [4.8 3.  1.4 0.1]\n",
      " [4.3 3.  1.1 0.1]\n",
      " [5.8 4.  1.2 0.2]\n",
      " [5.7 4.4 1.5 0.4]\n",
      " [5.4 3.9 1.3 0.4]\n",
      " [5.1 3.5 1.4 0.3]\n",
      " [5.7 3.8 1.7 0.3]\n",
      " [5.1 3.8 1.5 0.3]\n",
      " [5.4 3.4 1.7 0.2]\n",
      " [5.1 3.7 1.5 0.4]\n",
      " [4.6 3.6 1.  0.2]\n",
      " [5.1 3.3 1.7 0.5]\n",
      " [4.8 3.4 1.9 0.2]\n",
      " [5.  3.  1.6 0.2]\n",
      " [5.  3.4 1.6 0.4]\n",
      " [5.2 3.5 1.5 0.2]\n",
      " [5.2 3.4 1.4 0.2]\n",
      " [4.7 3.2 1.6 0.2]\n",
      " [4.8 3.1 1.6 0.2]\n",
      " [5.4 3.4 1.5 0.4]\n",
      " [5.2 4.1 1.5 0.1]\n",
      " [5.5 4.2 1.4 0.2]\n",
      " [4.9 3.1 1.5 0.2]\n",
      " [5.  3.2 1.2 0.2]\n",
      " [5.5 3.5 1.3 0.2]\n",
      " [4.9 3.6 1.4 0.1]\n",
      " [4.4 3.  1.3 0.2]\n",
      " [5.1 3.4 1.5 0.2]\n",
      " [5.  3.5 1.3 0.3]\n",
      " [4.5 2.3 1.3 0.3]\n",
      " [4.4 3.2 1.3 0.2]\n",
      " [5.  3.5 1.6 0.6]\n",
      " [5.1 3.8 1.9 0.4]\n",
      " [4.8 3.  1.4 0.3]\n",
      " [5.1 3.8 1.6 0.2]\n",
      " [4.6 3.2 1.4 0.2]\n",
      " [5.3 3.7 1.5 0.2]\n",
      " [5.  3.3 1.4 0.2]\n",
      " [7.  3.2 4.7 1.4]\n",
      " [6.4 3.2 4.5 1.5]\n",
      " [6.9 3.1 4.9 1.5]\n",
      " [5.5 2.3 4.  1.3]\n",
      " [6.5 2.8 4.6 1.5]\n",
      " [5.7 2.8 4.5 1.3]\n",
      " [6.3 3.3 4.7 1.6]\n",
      " [4.9 2.4 3.3 1. ]\n",
      " [6.6 2.9 4.6 1.3]\n",
      " [5.2 2.7 3.9 1.4]\n",
      " [5.  2.  3.5 1. ]\n",
      " [5.9 3.  4.2 1.5]\n",
      " [6.  2.2 4.  1. ]\n",
      " [6.1 2.9 4.7 1.4]\n",
      " [5.6 2.9 3.6 1.3]\n",
      " [6.7 3.1 4.4 1.4]\n",
      " [5.6 3.  4.5 1.5]\n",
      " [5.8 2.7 4.1 1. ]\n",
      " [6.2 2.2 4.5 1.5]\n",
      " [5.6 2.5 3.9 1.1]\n",
      " [5.9 3.2 4.8 1.8]\n",
      " [6.1 2.8 4.  1.3]\n",
      " [6.3 2.5 4.9 1.5]\n",
      " [6.1 2.8 4.7 1.2]\n",
      " [6.4 2.9 4.3 1.3]\n",
      " [6.6 3.  4.4 1.4]\n",
      " [6.8 2.8 4.8 1.4]\n",
      " [6.7 3.  5.  1.7]\n",
      " [6.  2.9 4.5 1.5]\n",
      " [5.7 2.6 3.5 1. ]\n",
      " [5.5 2.4 3.8 1.1]\n",
      " [5.5 2.4 3.7 1. ]\n",
      " [5.8 2.7 3.9 1.2]\n",
      " [6.  2.7 5.1 1.6]\n",
      " [5.4 3.  4.5 1.5]\n",
      " [6.  3.4 4.5 1.6]\n",
      " [6.7 3.1 4.7 1.5]\n",
      " [6.3 2.3 4.4 1.3]\n",
      " [5.6 3.  4.1 1.3]\n",
      " [5.5 2.5 4.  1.3]\n",
      " [5.5 2.6 4.4 1.2]\n",
      " [6.1 3.  4.6 1.4]\n",
      " [5.8 2.6 4.  1.2]\n",
      " [5.  2.3 3.3 1. ]\n",
      " [5.6 2.7 4.2 1.3]\n",
      " [5.7 3.  4.2 1.2]\n",
      " [5.7 2.9 4.2 1.3]\n",
      " [6.2 2.9 4.3 1.3]\n",
      " [5.1 2.5 3.  1.1]\n",
      " [5.7 2.8 4.1 1.3]\n",
      " [6.3 3.3 6.  2.5]\n",
      " [5.8 2.7 5.1 1.9]\n",
      " [7.1 3.  5.9 2.1]\n",
      " [6.3 2.9 5.6 1.8]\n",
      " [6.5 3.  5.8 2.2]\n",
      " [7.6 3.  6.6 2.1]\n",
      " [4.9 2.5 4.5 1.7]\n",
      " [7.3 2.9 6.3 1.8]\n",
      " [6.7 2.5 5.8 1.8]\n",
      " [7.2 3.6 6.1 2.5]\n",
      " [6.5 3.2 5.1 2. ]\n",
      " [6.4 2.7 5.3 1.9]\n",
      " [6.8 3.  5.5 2.1]\n",
      " [5.7 2.5 5.  2. ]\n",
      " [5.8 2.8 5.1 2.4]\n",
      " [6.4 3.2 5.3 2.3]\n",
      " [6.5 3.  5.5 1.8]\n",
      " [7.7 3.8 6.7 2.2]\n",
      " [7.7 2.6 6.9 2.3]\n",
      " [6.  2.2 5.  1.5]\n",
      " [6.9 3.2 5.7 2.3]\n",
      " [5.6 2.8 4.9 2. ]\n",
      " [7.7 2.8 6.7 2. ]\n",
      " [6.3 2.7 4.9 1.8]\n",
      " [6.7 3.3 5.7 2.1]\n",
      " [7.2 3.2 6.  1.8]\n",
      " [6.2 2.8 4.8 1.8]\n",
      " [6.1 3.  4.9 1.8]\n",
      " [6.4 2.8 5.6 2.1]\n",
      " [7.2 3.  5.8 1.6]\n",
      " [7.4 2.8 6.1 1.9]\n",
      " [7.9 3.8 6.4 2. ]\n",
      " [6.4 2.8 5.6 2.2]\n",
      " [6.3 2.8 5.1 1.5]\n",
      " [6.1 2.6 5.6 1.4]\n",
      " [7.7 3.  6.1 2.3]\n",
      " [6.3 3.4 5.6 2.4]\n",
      " [6.4 3.1 5.5 1.8]\n",
      " [6.  3.  4.8 1.8]\n",
      " [6.9 3.1 5.4 2.1]\n",
      " [6.7 3.1 5.6 2.4]\n",
      " [6.9 3.1 5.1 2.3]\n",
      " [5.8 2.7 5.1 1.9]\n",
      " [6.8 3.2 5.9 2.3]\n",
      " [6.7 3.3 5.7 2.5]\n",
      " [6.7 3.  5.2 2.3]\n",
      " [6.3 2.5 5.  1.9]\n",
      " [6.5 3.  5.2 2. ]\n",
      " [6.2 3.4 5.4 2.3]\n",
      " [5.9 3.  5.1 1.8]]\n"
     ]
    }
   ],
   "source": [
    "iris = datasets.load_iris()\n",
    "\n",
    "print(iris.target)\n",
    "print(iris.data)"
   ]
  },
  {
   "cell_type": "code",
   "execution_count": 29,
   "metadata": {},
   "outputs": [],
   "source": [
    "# generate the row-wise the spearman correlation \n",
    "# used to try and find the likelyhood of each gene being co-expressed in the data\n",
    "spear_corr = np.zeros([merge_data.shape[0],merge_data.shape[0]])\n",
    "\n",
    "spear_corr = merge_data.iloc[:,1:].T.corr('spearman')\n",
    " \n",
    "  "
   ]
  },
  {
   "cell_type": "code",
   "execution_count": 34,
   "metadata": {},
   "outputs": [
    {
     "name": "stderr",
     "output_type": "stream",
     "text": [
      "/home/hillerton/projects/algorithm_course/python_env/lib/python3.7/site-packages/sklearn/cluster/k_means_.py:972: ConvergenceWarning: Number of distinct clusters (4) found smaller than n_clusters (5). Possibly due to duplicate points in X.\n",
      "  return_n_iter=True)\n",
      "/home/hillerton/projects/algorithm_course/python_env/lib/python3.7/site-packages/sklearn/preprocessing/_discretization.py:193: UserWarning: Bins whose width are too small (i.e., <= 1e-8) in feature 3566 are removed. Consider decreasing the number of bins.\n",
      "  'decreasing the number of bins.' % jj)\n"
     ]
    }
   ],
   "source": [
    "# discretize the data as Naive bayesian models often works better on this type of data\n",
    "kbd = KBinsDiscretizer(n_bins=4, encode='ordinal', strategy='kmeans')\n",
    "model = kbd.fit(spear_corr)\n",
    "\n",
    "binned_corr = model.transform(spear_corr)"
   ]
  },
  {
   "cell_type": "code",
   "execution_count": 61,
   "metadata": {},
   "outputs": [
    {
     "name": "stdout",
     "output_type": "stream",
     "text": [
      "False\n"
     ]
    }
   ],
   "source": [
    "binned_corr[binned_corr<3] = 0\n",
    "\n",
    "binned_corr[binned_corr>0] = 1\n",
    "\n",
    "print(np.array_equal(gold_adjscen_np, binned_corr))\n",
    "\n"
   ]
  },
  {
   "cell_type": "code",
   "execution_count": 50,
   "metadata": {
    "scrolled": false
   },
   "outputs": [
    {
     "ename": "ValueError",
     "evalue": "bad input shape (3235, 3235)",
     "output_type": "error",
     "traceback": [
      "\u001b[0;31m---------------------------------------------------------------------------\u001b[0m",
      "\u001b[0;31mValueError\u001b[0m                                Traceback (most recent call last)",
      "\u001b[0;32m<ipython-input-50-d59b2ff3e8dc>\u001b[0m in \u001b[0;36m<module>\u001b[0;34m\u001b[0m\n\u001b[1;32m      4\u001b[0m \u001b[0;34m\u001b[0m\u001b[0m\n\u001b[1;32m      5\u001b[0m \u001b[0mgnb\u001b[0m \u001b[0;34m=\u001b[0m \u001b[0mGaussianNB\u001b[0m\u001b[0;34m(\u001b[0m\u001b[0;34m)\u001b[0m\u001b[0;34m\u001b[0m\u001b[0;34m\u001b[0m\u001b[0m\n\u001b[0;32m----> 6\u001b[0;31m \u001b[0my_fit\u001b[0m \u001b[0;34m=\u001b[0m \u001b[0mgnb\u001b[0m\u001b[0;34m.\u001b[0m\u001b[0mfit\u001b[0m\u001b[0;34m(\u001b[0m\u001b[0mbinned_corr\u001b[0m\u001b[0;34m[\u001b[0m\u001b[0;34m:\u001b[0m\u001b[0;36m3235\u001b[0m\u001b[0;34m,\u001b[0m\u001b[0;34m:\u001b[0m\u001b[0;36m3235\u001b[0m\u001b[0;34m]\u001b[0m\u001b[0;34m,\u001b[0m \u001b[0mgold_adjscen_np\u001b[0m\u001b[0;34m[\u001b[0m\u001b[0;34m:\u001b[0m\u001b[0;34m,\u001b[0m\u001b[0;34m:\u001b[0m\u001b[0;36m3235\u001b[0m\u001b[0;34m]\u001b[0m\u001b[0;34m)\u001b[0m\u001b[0;34m\u001b[0m\u001b[0;34m\u001b[0m\u001b[0m\n\u001b[0m\u001b[1;32m      7\u001b[0m \u001b[0;34m\u001b[0m\u001b[0m\n\u001b[1;32m      8\u001b[0m \u001b[0;31m# Sadly after fitting nothing could be predicted\u001b[0m\u001b[0;34m\u001b[0m\u001b[0;34m\u001b[0m\u001b[0;34m\u001b[0m\u001b[0m\n",
      "\u001b[0;32m~/projects/algorithm_course/python_env/lib/python3.7/site-packages/sklearn/naive_bayes.py\u001b[0m in \u001b[0;36mfit\u001b[0;34m(self, X, y, sample_weight)\u001b[0m\n\u001b[1;32m    187\u001b[0m         \u001b[0mself\u001b[0m \u001b[0;34m:\u001b[0m \u001b[0mobject\u001b[0m\u001b[0;34m\u001b[0m\u001b[0;34m\u001b[0m\u001b[0m\n\u001b[1;32m    188\u001b[0m         \"\"\"\n\u001b[0;32m--> 189\u001b[0;31m         \u001b[0mX\u001b[0m\u001b[0;34m,\u001b[0m \u001b[0my\u001b[0m \u001b[0;34m=\u001b[0m \u001b[0mcheck_X_y\u001b[0m\u001b[0;34m(\u001b[0m\u001b[0mX\u001b[0m\u001b[0;34m,\u001b[0m \u001b[0my\u001b[0m\u001b[0;34m)\u001b[0m\u001b[0;34m\u001b[0m\u001b[0;34m\u001b[0m\u001b[0m\n\u001b[0m\u001b[1;32m    190\u001b[0m         return self._partial_fit(X, y, np.unique(y), _refit=True,\n\u001b[1;32m    191\u001b[0m                                  sample_weight=sample_weight)\n",
      "\u001b[0;32m~/projects/algorithm_course/python_env/lib/python3.7/site-packages/sklearn/utils/validation.py\u001b[0m in \u001b[0;36mcheck_X_y\u001b[0;34m(X, y, accept_sparse, accept_large_sparse, dtype, order, copy, force_all_finite, ensure_2d, allow_nd, multi_output, ensure_min_samples, ensure_min_features, y_numeric, warn_on_dtype, estimator)\u001b[0m\n\u001b[1;32m    722\u001b[0m                         dtype=None)\n\u001b[1;32m    723\u001b[0m     \u001b[0;32melse\u001b[0m\u001b[0;34m:\u001b[0m\u001b[0;34m\u001b[0m\u001b[0;34m\u001b[0m\u001b[0m\n\u001b[0;32m--> 724\u001b[0;31m         \u001b[0my\u001b[0m \u001b[0;34m=\u001b[0m \u001b[0mcolumn_or_1d\u001b[0m\u001b[0;34m(\u001b[0m\u001b[0my\u001b[0m\u001b[0;34m,\u001b[0m \u001b[0mwarn\u001b[0m\u001b[0;34m=\u001b[0m\u001b[0;32mTrue\u001b[0m\u001b[0;34m)\u001b[0m\u001b[0;34m\u001b[0m\u001b[0;34m\u001b[0m\u001b[0m\n\u001b[0m\u001b[1;32m    725\u001b[0m         \u001b[0m_assert_all_finite\u001b[0m\u001b[0;34m(\u001b[0m\u001b[0my\u001b[0m\u001b[0;34m)\u001b[0m\u001b[0;34m\u001b[0m\u001b[0;34m\u001b[0m\u001b[0m\n\u001b[1;32m    726\u001b[0m     \u001b[0;32mif\u001b[0m \u001b[0my_numeric\u001b[0m \u001b[0;32mand\u001b[0m \u001b[0my\u001b[0m\u001b[0;34m.\u001b[0m\u001b[0mdtype\u001b[0m\u001b[0;34m.\u001b[0m\u001b[0mkind\u001b[0m \u001b[0;34m==\u001b[0m \u001b[0;34m'O'\u001b[0m\u001b[0;34m:\u001b[0m\u001b[0;34m\u001b[0m\u001b[0;34m\u001b[0m\u001b[0m\n",
      "\u001b[0;32m~/projects/algorithm_course/python_env/lib/python3.7/site-packages/sklearn/utils/validation.py\u001b[0m in \u001b[0;36mcolumn_or_1d\u001b[0;34m(y, warn)\u001b[0m\n\u001b[1;32m    758\u001b[0m         \u001b[0;32mreturn\u001b[0m \u001b[0mnp\u001b[0m\u001b[0;34m.\u001b[0m\u001b[0mravel\u001b[0m\u001b[0;34m(\u001b[0m\u001b[0my\u001b[0m\u001b[0;34m)\u001b[0m\u001b[0;34m\u001b[0m\u001b[0;34m\u001b[0m\u001b[0m\n\u001b[1;32m    759\u001b[0m \u001b[0;34m\u001b[0m\u001b[0m\n\u001b[0;32m--> 760\u001b[0;31m     \u001b[0;32mraise\u001b[0m \u001b[0mValueError\u001b[0m\u001b[0;34m(\u001b[0m\u001b[0;34m\"bad input shape {0}\"\u001b[0m\u001b[0;34m.\u001b[0m\u001b[0mformat\u001b[0m\u001b[0;34m(\u001b[0m\u001b[0mshape\u001b[0m\u001b[0;34m)\u001b[0m\u001b[0;34m)\u001b[0m\u001b[0;34m\u001b[0m\u001b[0;34m\u001b[0m\u001b[0m\n\u001b[0m\u001b[1;32m    761\u001b[0m \u001b[0;34m\u001b[0m\u001b[0m\n\u001b[1;32m    762\u001b[0m \u001b[0;34m\u001b[0m\u001b[0m\n",
      "\u001b[0;31mValueError\u001b[0m: bad input shape (3235, 3235)"
     ]
    }
   ],
   "source": [
    "# try to fit the data to the mode \n",
    "\n",
    "gold_adjscen_np = gold_adjscen.to_numpy()\n",
    "\n",
    "gnb = GaussianNB()\n",
    "y_fit = gnb.fit(binned_corr[:3235,:3235], gold_adjscen_np[:,:3235])\n",
    "\n",
    "# Sadly after fitting nothing could be predicted \n",
    "# And I failed to figure out exactly where the problem arose\n",
    "print(any(y_fit.predict(binned_corr[:3235,:3333])>0))\n",
    "\n"
   ]
  },
  {
   "cell_type": "code",
   "execution_count": 45,
   "metadata": {
    "scrolled": false
   },
   "outputs": [
    {
     "name": "stdout",
     "output_type": "stream",
     "text": [
      "mean degree in network 67.58578052550232\n",
      "maximum degree 1353\n",
      "minimum degree 2\n"
     ]
    },
    {
     "data": {
      "image/png": "[encoded data removed]",
      "text/plain": [
       "<Figure size 432x288 with 1 Axes>"
      ]
     },
     "metadata": {},
     "output_type": "display_data"
    }
   ],
   "source": [
    "# plot the original network using networkX \n",
    "\n",
    "net = nx.from_numpy_array(gold_adjscen_np[:,:3235])\n",
    "pos = nx.layout.spring_layout(net)\n",
    "\n",
    "nodes = nx.draw_networkx_nodes(net, pos, node_size=20, node_color='r')\n",
    "edges = nx.draw_networkx_edges(net, pos, node_size=20, arrowstyle='->',\n",
    "                               arrowsize=10, edge_color='grey',\n",
    "                               edge_cmap=plt.cm.Blues, width=1.5)\n",
    "\n",
    "degs = [d for n,d in net.degree]\n",
    "print(\"mean degree in network\",np.mean(degs))\n",
    "print(\"maximum degree\",np.max(degs))\n",
    "print(\"minimum degree\",np.min(degs))\n",
    "plt.show()"
   ]
  },
  {
   "cell_type": "code",
   "execution_count": null,
   "metadata": {},
   "outputs": [],
   "source": []
  }
 ],
 "metadata": {
  "kernelspec": {
   "display_name": "Python 3",
   "language": "python",
   "name": "python3"
  },
  "language_info": {
   "codemirror_mode": {
    "name": "ipython",
    "version": 3
   },
   "file_extension": ".py",
   "mimetype": "text/x-python",
   "name": "python",
   "nbconvert_exporter": "python",
   "pygments_lexer": "ipython3",
   "version": "3.7.4"
  }
 },
 "nbformat": 4,
 "nbformat_minor": 2
}
